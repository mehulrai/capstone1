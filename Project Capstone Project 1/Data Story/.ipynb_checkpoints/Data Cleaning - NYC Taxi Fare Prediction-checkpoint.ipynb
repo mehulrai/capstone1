{
 "cells": [
  {
   "cell_type": "markdown",
   "metadata": {},
   "source": [
    "# NYC Taxi Fare Prediction - Data Cleaning"
   ]
  },
  {
   "cell_type": "code",
   "execution_count": 2,
   "metadata": {},
   "outputs": [],
   "source": [
    "# Importing Libraries\n",
    "\n",
    "import pandas as pd\n",
    "import sklearn as sk\n",
    "import numpy as np\n",
    "import matplotlib.pyplot as plt\n",
    "from sklearn.model_selection import train_test_split\n",
    "from geopy.distance import geodesic\n",
    "from pyproj import Geod\n",
    "import seaborn as sns\n",
    "from math import sin, cos, sqrt, atan2, radians\n",
    "import dask.dataframe as dd"
   ]
  },
  {
   "cell_type": "code",
   "execution_count": null,
   "metadata": {},
   "outputs": [],
   "source": [
    "# Read CSV\n",
    "\n",
    "train_data = pd.read_csv('train.csv')"
   ]
  },
  {
   "cell_type": "code",
   "execution_count": null,
   "metadata": {},
   "outputs": [],
   "source": [
    "# Visually inspecting the data\n",
    "\n",
    "print(train_data.head())\n",
    "print(train_data.shape)\n",
    "print(train_data.info())\n",
    "print(train_data.describe())\n",
    "print(train_data.isnull().sum())"
   ]
  },
  {
   "cell_type": "code",
   "execution_count": null,
   "metadata": {},
   "outputs": [],
   "source": [
    "#Counting the values in passenger_count column\n",
    "\n",
    "train_data.passenger_count.value_counts(dropna=False)"
   ]
  },
  {
   "cell_type": "code",
   "execution_count": null,
   "metadata": {},
   "outputs": [],
   "source": [
    "#Counting the values in pickup_datetime column\n",
    "\n",
    "train_data.pickup_datetime.value_counts(dropna=False)"
   ]
  },
  {
   "cell_type": "code",
   "execution_count": null,
   "metadata": {},
   "outputs": [],
   "source": [
    "#Counting the values in fare_amount column\n",
    "\n",
    "train_data.fare_amount.value_counts(dropna=False)"
   ]
  },
  {
   "cell_type": "code",
   "execution_count": null,
   "metadata": {},
   "outputs": [],
   "source": [
    "#Fare amount has some negative values\n",
    "\n",
    "train_data[train_data.fare_amount<0]"
   ]
  },
  {
   "cell_type": "code",
   "execution_count": null,
   "metadata": {},
   "outputs": [],
   "source": [
    "# Dropping Null Values\n",
    "\n",
    "print('Old size: %d' % len(train_data))\n",
    "train_data = train_data.dropna(how = 'any', axis = 'rows')\n",
    "print('New size: %d' % len(train_data))"
   ]
  },
  {
   "cell_type": "code",
   "execution_count": null,
   "metadata": {},
   "outputs": [],
   "source": [
    "# Removing passenger_count = 0 \n",
    "\n",
    "print('Old size: %d' % len(train_data))\n",
    "train_data = train_data[train_data.passenger_count>=1]\n",
    "print('New size: %d' % len(train_data))"
   ]
  },
  {
   "cell_type": "code",
   "execution_count": null,
   "metadata": {},
   "outputs": [],
   "source": [
    "# Removing passenger_count greater than 6\n",
    "\n",
    "print('Old size: %d' % len(train_data))\n",
    "train_data = train_data[train_data.passenger_count<=6]\n",
    "print('New size: %d' % len(train_data))"
   ]
  },
  {
   "cell_type": "code",
   "execution_count": null,
   "metadata": {},
   "outputs": [],
   "source": [
    "# Removing 0 fare_amount\n",
    "\n",
    "print('Old size: %d' % len(train_data))\n",
    "train_data = train_data[train_data.fare_amount>=1.0]\n",
    "print('New size: %d' % len(train_data))"
   ]
  },
  {
   "cell_type": "code",
   "execution_count": null,
   "metadata": {},
   "outputs": [],
   "source": [
    "# Removing 0 pickup_longitude, pickup_longitude, dropoff_longitude, dropoff_latitude\n",
    "\n",
    "print('Old size: %d' % len(train_data))\n",
    "train_data = train_data[((train_data) != 0).all(1)]\n",
    "print('New size: %d' % len(train_data))"
   ]
  },
  {
   "cell_type": "code",
   "execution_count": null,
   "metadata": {},
   "outputs": [],
   "source": [
    "# Removing fare_amount greater than 1000.00\n",
    "\n",
    "print('Old size: %d' % len(train_data))\n",
    "train_data = train_data[train_data.fare_amount<=1000.00]\n",
    "print('New size: %d' % len(train_data))"
   ]
  },
  {
   "cell_type": "code",
   "execution_count": null,
   "metadata": {},
   "outputs": [],
   "source": [
    "#Exporting training data with new features to a new csv\n",
    "\n",
    "train_data.to_csv('train_cleaned.csv')"
   ]
  },
  {
   "cell_type": "code",
   "execution_count": null,
   "metadata": {},
   "outputs": [],
   "source": [
    "# dropping the Unnamed column\n",
    "\n",
    "train_data = train_data.drop(['Unnamed: 0'], axis=1)"
   ]
  },
  {
   "cell_type": "code",
   "execution_count": null,
   "metadata": {},
   "outputs": [],
   "source": [
    "# Calculate Distance between pickup and drop-off points\n",
    "lat1 = train_data.loc[:,['pickup_latitude']]\n",
    "long1 = train_data.loc[:,['pickup_longitude']]\n",
    "lat2 = train_data.loc[:,['dropoff_latitude']]\n",
    "long2 = train_data.loc[:,['dropoff_longitude']]\n",
    "\n",
    "# To get the distance between the two rides we need to convert Latitude and Longitude in Radians\n",
    "train_data['pickup_latitude_radians'] = train_data['pickup_latitude'].apply(lambda x: radians(x))\n",
    "train_data['pickup_longitude_radians'] = train_data['pickup_longitude'].apply(lambda x: radians(x))\n",
    "train_data['dropoff_latitude_radians'] = train_data['dropoff_latitude'].apply(lambda x: radians(x))\n",
    "train_data['dropoff_longitude_radians'] = train_data['dropoff_longitude'].apply(lambda x: radians(x))\n",
    "\n",
    "#checking difference between latitude and longitude in radians in training data\n",
    "lat1 = train_data['pickup_latitude_radians']\n",
    "long1 = train_data['pickup_longitude_radians']\n",
    "lat2 = train_data['dropoff_latitude_radians']\n",
    "long2 = train_data['dropoff_longitude_radians']\n",
    "\n",
    "train_data['dlon'] = long2 - long1\n",
    "train_data['dlat'] = lat2 - lat1\n",
    "\n",
    "R = 6373.0\n",
    "def distance(dlat,dlon,lat1,lat2,R):\n",
    "    a = sin(dlat / 2)**2 + cos(lat1) * cos(lat2) * sin(dlon / 2)**2\n",
    "    c = 2 * atan2(sqrt(a), sqrt(1 - a))\n",
    "    dist = R * c\n",
    "    return dist"
   ]
  },
  {
   "cell_type": "code",
   "execution_count": null,
   "metadata": {},
   "outputs": [],
   "source": [
    "train_data['result'] = train_data.map(distance(train_data['dlat'],train_data['dlon'],train_data['pickup_latitude_radians']),train_data['dropoff_latitude_radians'],R)"
   ]
  },
  {
   "cell_type": "code",
   "execution_count": null,
   "metadata": {},
   "outputs": [],
   "source": []
  },
  {
   "cell_type": "markdown",
   "metadata": {},
   "source": [
    "# NYC Taxi Fare Prediction - Data Story"
   ]
  },
  {
   "cell_type": "code",
   "execution_count": null,
   "metadata": {},
   "outputs": [],
   "source": [
    "# Plot a scatter plot\n",
    "\n",
    "_ = plt.plot(train_data['fare_amount'], train_data['passenger_count'], marker='.',linestyle='none')\n",
    "_ = plt.xlabel('Fare Amount')\n",
    "_ = plt.ylabel('Passenger_Count')\n",
    "# Show the plot\n",
    "plt.show()"
   ]
  },
  {
   "cell_type": "code",
   "execution_count": null,
   "metadata": {},
   "outputs": [],
   "source": [
    "# Plot a scatter plot\n",
    "\n",
    "_ = plt.plot(train_data['fare_amount'], train_data['passenger_count'], marker='.',linestyle='none')\n",
    "_ = plt.xlabel('Fare Amount')\n",
    "_ = plt.ylabel('Passenger_Count')\n",
    "# Show the plot\n",
    "plt.show()"
   ]
  },
  {
   "cell_type": "code",
   "execution_count": null,
   "metadata": {},
   "outputs": [],
   "source": [
    "# Barplot\n",
    "\n",
    "sns.set(style=\"whitegrid\")\n",
    "ax = sns.barplot(x=\"fare_amount\", y=\"passenger_count\", data=train_data)"
   ]
  }
 ],
 "metadata": {
  "kernelspec": {
   "display_name": "Python 3",
   "language": "python",
   "name": "python3"
  },
  "language_info": {
   "codemirror_mode": {
    "name": "ipython",
    "version": 3
   },
   "file_extension": ".py",
   "mimetype": "text/x-python",
   "name": "python",
   "nbconvert_exporter": "python",
   "pygments_lexer": "ipython3",
   "version": "3.7.3"
  }
 },
 "nbformat": 4,
 "nbformat_minor": 2
}
